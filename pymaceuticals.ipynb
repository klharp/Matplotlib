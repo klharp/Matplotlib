{
 "cells": [
  {
   "cell_type": "markdown",
   "metadata": {},
   "source": [
    "## Observations and Insights "
   ]
  },
  {
   "cell_type": "code",
   "execution_count": 1,
   "metadata": {},
   "outputs": [],
   "source": [
    "# Dependencies and Setup\n",
    "import matplotlib.pyplot as plt\n",
    "import pandas as pd\n",
    "import scipy.stats as sts\n",
    "import numpy as np\n",
    "from scipy.stats import linregress\n",
    "\n",
    "# Study data files\n",
    "mouse_metadata_path = \"data/Mouse_metadata.csv\"\n",
    "study_results_path = \"data/Study_results.csv\"\n",
    "\n",
    "# Read the mouse data and the study results\n",
    "mouse_metadata = pd.read_csv(mouse_metadata_path)\n",
    "study_results = pd.read_csv(study_results_path)\n",
    "# mouse_metadata\n",
    "\n",
    "# Combine the data into a single dataset\n",
    "merge_df = pd.merge(mouse_metadata, study_results, on=\"Mouse ID\", how=\"inner\")\n",
    "\n",
    "# Display the data table for preview\n",
    "# merge_df"
   ]
  },
  {
   "cell_type": "code",
   "execution_count": 2,
   "metadata": {},
   "outputs": [],
   "source": [
    "# Checking the number of mice.\n",
    "mouse_number = merge_df[\"Mouse ID\"].count()\n",
    "# mouse_number"
   ]
  },
  {
   "cell_type": "code",
   "execution_count": 3,
   "metadata": {},
   "outputs": [],
   "source": [
    "# Getting the duplicate mice by ID number that shows up for Mouse ID and Timepoint. \n",
    "# https://thispointer.com/pandas-find-duplicate-rows-in-a-dataframe-based-on-all-or-selected-columns-using-dataframe-duplicated-in-python/\n",
    "merge_dup = merge_df[merge_df.duplicated([\"Mouse ID\", \"Timepoint\"])]\n",
    "#print(merge_dup)\n",
    "# mouse g989 should be removed because it has duplicate items"
   ]
  },
  {
   "cell_type": "code",
   "execution_count": 4,
   "metadata": {},
   "outputs": [],
   "source": [
    "merge_df = merge_df[merge_df[\"Mouse ID\"] != \"g989\"]"
   ]
  },
  {
   "cell_type": "code",
   "execution_count": 5,
   "metadata": {},
   "outputs": [
    {
     "data": {
      "text/plain": [
       "False"
      ]
     },
     "execution_count": 5,
     "metadata": {},
     "output_type": "execute_result"
    }
   ],
   "source": [
    "#Check for NaNs\n",
    "merge_df.isnull().values.any()"
   ]
  },
  {
   "cell_type": "code",
   "execution_count": 6,
   "metadata": {},
   "outputs": [
    {
     "data": {
      "text/plain": [
       "248"
      ]
     },
     "execution_count": 6,
     "metadata": {},
     "output_type": "execute_result"
    }
   ],
   "source": [
    "merge_df[\"Mouse ID\"].nunique()"
   ]
  },
  {
   "cell_type": "code",
   "execution_count": 7,
   "metadata": {},
   "outputs": [],
   "source": [
    "# Checking the number of mice in the clean DataFrame.\n",
    "mouse_number2 = merge_df[\"Mouse ID\"].count()\n",
    "# mouse_number2"
   ]
  },
  {
   "cell_type": "markdown",
   "metadata": {},
   "source": [
    "## Summary Statistics"
   ]
  },
  {
   "cell_type": "code",
   "execution_count": 8,
   "metadata": {},
   "outputs": [],
   "source": [
    "# Generate a summary statistics table of mean, median, variance, standard deviation,\n",
    "# and SEM of the tumor volume for each regimen\n",
    "# Use groupby and summary statistical methods to calculate the following properties of each drug regimen: \n",
    "\n",
    "# Find means of group\n",
    "means = merge_df.groupby(\"Drug Regimen\")[\"Tumor Volume (mm3)\"].mean()\n",
    "# means"
   ]
  },
  {
   "cell_type": "code",
   "execution_count": 9,
   "metadata": {},
   "outputs": [],
   "source": [
    "# Find median of group\n",
    "medians = merge_df.groupby(\"Drug Regimen\")[\"Tumor Volume (mm3)\"].median()\n",
    "# medians"
   ]
  },
  {
   "cell_type": "code",
   "execution_count": 10,
   "metadata": {},
   "outputs": [],
   "source": [
    "# Find variance of group\n",
    "variances = merge_df.groupby(\"Drug Regimen\")[\"Tumor Volume (mm3)\"].var()\n",
    "# variances"
   ]
  },
  {
   "cell_type": "code",
   "execution_count": 11,
   "metadata": {},
   "outputs": [],
   "source": [
    "# Find standard deviations of group\n",
    "stds = merge_df.groupby(\"Drug Regimen\")[\"Tumor Volume (mm3)\"].std()\n",
    "# stds"
   ]
  },
  {
   "cell_type": "code",
   "execution_count": 12,
   "metadata": {},
   "outputs": [],
   "source": [
    "# Find SEMs of group\n",
    "sems = merge_df.groupby(\"Drug Regimen\")[\"Tumor Volume (mm3)\"].sem()\n",
    "# sems"
   ]
  },
  {
   "cell_type": "code",
   "execution_count": 13,
   "metadata": {
    "scrolled": true
   },
   "outputs": [
    {
     "data": {
      "text/html": [
       "<div>\n",
       "<style scoped>\n",
       "    .dataframe tbody tr th:only-of-type {\n",
       "        vertical-align: middle;\n",
       "    }\n",
       "\n",
       "    .dataframe tbody tr th {\n",
       "        vertical-align: top;\n",
       "    }\n",
       "\n",
       "    .dataframe thead th {\n",
       "        text-align: right;\n",
       "    }\n",
       "</style>\n",
       "<table border=\"1\" class=\"dataframe\">\n",
       "  <thead>\n",
       "    <tr style=\"text-align: right;\">\n",
       "      <th></th>\n",
       "      <th>Mean</th>\n",
       "      <th>Median</th>\n",
       "      <th>Variance</th>\n",
       "      <th>Standard Deviation</th>\n",
       "      <th>SEM</th>\n",
       "    </tr>\n",
       "    <tr>\n",
       "      <th>Drug Regimen</th>\n",
       "      <th></th>\n",
       "      <th></th>\n",
       "      <th></th>\n",
       "      <th></th>\n",
       "      <th></th>\n",
       "    </tr>\n",
       "  </thead>\n",
       "  <tbody>\n",
       "    <tr>\n",
       "      <th>Capomulin</th>\n",
       "      <td>40.675741</td>\n",
       "      <td>41.557809</td>\n",
       "      <td>24.947764</td>\n",
       "      <td>4.994774</td>\n",
       "      <td>0.329346</td>\n",
       "    </tr>\n",
       "    <tr>\n",
       "      <th>Ceftamin</th>\n",
       "      <td>52.591172</td>\n",
       "      <td>51.776157</td>\n",
       "      <td>39.290177</td>\n",
       "      <td>6.268188</td>\n",
       "      <td>0.469821</td>\n",
       "    </tr>\n",
       "    <tr>\n",
       "      <th>Infubinol</th>\n",
       "      <td>52.884795</td>\n",
       "      <td>51.820584</td>\n",
       "      <td>43.128684</td>\n",
       "      <td>6.567243</td>\n",
       "      <td>0.492236</td>\n",
       "    </tr>\n",
       "    <tr>\n",
       "      <th>Ketapril</th>\n",
       "      <td>55.235638</td>\n",
       "      <td>53.698743</td>\n",
       "      <td>68.553577</td>\n",
       "      <td>8.279709</td>\n",
       "      <td>0.603860</td>\n",
       "    </tr>\n",
       "    <tr>\n",
       "      <th>Naftisol</th>\n",
       "      <td>54.331565</td>\n",
       "      <td>52.509285</td>\n",
       "      <td>66.173479</td>\n",
       "      <td>8.134708</td>\n",
       "      <td>0.596466</td>\n",
       "    </tr>\n",
       "    <tr>\n",
       "      <th>Placebo</th>\n",
       "      <td>54.033581</td>\n",
       "      <td>52.288934</td>\n",
       "      <td>61.168083</td>\n",
       "      <td>7.821003</td>\n",
       "      <td>0.581331</td>\n",
       "    </tr>\n",
       "    <tr>\n",
       "      <th>Propriva</th>\n",
       "      <td>52.320930</td>\n",
       "      <td>50.446266</td>\n",
       "      <td>43.852013</td>\n",
       "      <td>6.622085</td>\n",
       "      <td>0.544332</td>\n",
       "    </tr>\n",
       "    <tr>\n",
       "      <th>Ramicane</th>\n",
       "      <td>40.216745</td>\n",
       "      <td>40.673236</td>\n",
       "      <td>23.486704</td>\n",
       "      <td>4.846308</td>\n",
       "      <td>0.320955</td>\n",
       "    </tr>\n",
       "    <tr>\n",
       "      <th>Stelasyn</th>\n",
       "      <td>54.233149</td>\n",
       "      <td>52.431737</td>\n",
       "      <td>59.450562</td>\n",
       "      <td>7.710419</td>\n",
       "      <td>0.573111</td>\n",
       "    </tr>\n",
       "    <tr>\n",
       "      <th>Zoniferol</th>\n",
       "      <td>53.236507</td>\n",
       "      <td>51.818479</td>\n",
       "      <td>48.533355</td>\n",
       "      <td>6.966589</td>\n",
       "      <td>0.516398</td>\n",
       "    </tr>\n",
       "  </tbody>\n",
       "</table>\n",
       "</div>"
      ],
      "text/plain": [
       "                   Mean     Median   Variance  Standard Deviation       SEM\n",
       "Drug Regimen                                                               \n",
       "Capomulin     40.675741  41.557809  24.947764            4.994774  0.329346\n",
       "Ceftamin      52.591172  51.776157  39.290177            6.268188  0.469821\n",
       "Infubinol     52.884795  51.820584  43.128684            6.567243  0.492236\n",
       "Ketapril      55.235638  53.698743  68.553577            8.279709  0.603860\n",
       "Naftisol      54.331565  52.509285  66.173479            8.134708  0.596466\n",
       "Placebo       54.033581  52.288934  61.168083            7.821003  0.581331\n",
       "Propriva      52.320930  50.446266  43.852013            6.622085  0.544332\n",
       "Ramicane      40.216745  40.673236  23.486704            4.846308  0.320955\n",
       "Stelasyn      54.233149  52.431737  59.450562            7.710419  0.573111\n",
       "Zoniferol     53.236507  51.818479  48.533355            6.966589  0.516398"
      ]
     },
     "execution_count": 13,
     "metadata": {},
     "output_type": "execute_result"
    }
   ],
   "source": [
    "# Assemble the resulting series into a single summary dataframe.\n",
    "grouped_summary_df = pd.DataFrame({\"Mean\": means,\n",
    "                                  \"Median\" : medians,\n",
    "                                  \"Variance\": variances,\n",
    "                                  \"Standard Deviation\" : stds,\n",
    "                                  \"SEM\": sems})\n",
    "\n",
    "grouped_summary_df"
   ]
  },
  {
   "cell_type": "code",
   "execution_count": 14,
   "metadata": {},
   "outputs": [
    {
     "data": {
      "text/html": [
       "<div>\n",
       "<style scoped>\n",
       "    .dataframe tbody tr th:only-of-type {\n",
       "        vertical-align: middle;\n",
       "    }\n",
       "\n",
       "    .dataframe tbody tr th {\n",
       "        vertical-align: top;\n",
       "    }\n",
       "\n",
       "    .dataframe thead tr th {\n",
       "        text-align: left;\n",
       "    }\n",
       "\n",
       "    .dataframe thead tr:last-of-type th {\n",
       "        text-align: right;\n",
       "    }\n",
       "</style>\n",
       "<table border=\"1\" class=\"dataframe\">\n",
       "  <thead>\n",
       "    <tr>\n",
       "      <th></th>\n",
       "      <th colspan=\"5\" halign=\"left\">Tumor Volume (mm3)</th>\n",
       "    </tr>\n",
       "    <tr>\n",
       "      <th></th>\n",
       "      <th>mean</th>\n",
       "      <th>median</th>\n",
       "      <th>var</th>\n",
       "      <th>std</th>\n",
       "      <th>sem</th>\n",
       "    </tr>\n",
       "    <tr>\n",
       "      <th>Drug Regimen</th>\n",
       "      <th></th>\n",
       "      <th></th>\n",
       "      <th></th>\n",
       "      <th></th>\n",
       "      <th></th>\n",
       "    </tr>\n",
       "  </thead>\n",
       "  <tbody>\n",
       "    <tr>\n",
       "      <th>Capomulin</th>\n",
       "      <td>40.675741</td>\n",
       "      <td>41.557809</td>\n",
       "      <td>24.947764</td>\n",
       "      <td>4.994774</td>\n",
       "      <td>0.329346</td>\n",
       "    </tr>\n",
       "    <tr>\n",
       "      <th>Ceftamin</th>\n",
       "      <td>52.591172</td>\n",
       "      <td>51.776157</td>\n",
       "      <td>39.290177</td>\n",
       "      <td>6.268188</td>\n",
       "      <td>0.469821</td>\n",
       "    </tr>\n",
       "    <tr>\n",
       "      <th>Infubinol</th>\n",
       "      <td>52.884795</td>\n",
       "      <td>51.820584</td>\n",
       "      <td>43.128684</td>\n",
       "      <td>6.567243</td>\n",
       "      <td>0.492236</td>\n",
       "    </tr>\n",
       "    <tr>\n",
       "      <th>Ketapril</th>\n",
       "      <td>55.235638</td>\n",
       "      <td>53.698743</td>\n",
       "      <td>68.553577</td>\n",
       "      <td>8.279709</td>\n",
       "      <td>0.603860</td>\n",
       "    </tr>\n",
       "    <tr>\n",
       "      <th>Naftisol</th>\n",
       "      <td>54.331565</td>\n",
       "      <td>52.509285</td>\n",
       "      <td>66.173479</td>\n",
       "      <td>8.134708</td>\n",
       "      <td>0.596466</td>\n",
       "    </tr>\n",
       "    <tr>\n",
       "      <th>Placebo</th>\n",
       "      <td>54.033581</td>\n",
       "      <td>52.288934</td>\n",
       "      <td>61.168083</td>\n",
       "      <td>7.821003</td>\n",
       "      <td>0.581331</td>\n",
       "    </tr>\n",
       "    <tr>\n",
       "      <th>Propriva</th>\n",
       "      <td>52.320930</td>\n",
       "      <td>50.446266</td>\n",
       "      <td>43.852013</td>\n",
       "      <td>6.622085</td>\n",
       "      <td>0.544332</td>\n",
       "    </tr>\n",
       "    <tr>\n",
       "      <th>Ramicane</th>\n",
       "      <td>40.216745</td>\n",
       "      <td>40.673236</td>\n",
       "      <td>23.486704</td>\n",
       "      <td>4.846308</td>\n",
       "      <td>0.320955</td>\n",
       "    </tr>\n",
       "    <tr>\n",
       "      <th>Stelasyn</th>\n",
       "      <td>54.233149</td>\n",
       "      <td>52.431737</td>\n",
       "      <td>59.450562</td>\n",
       "      <td>7.710419</td>\n",
       "      <td>0.573111</td>\n",
       "    </tr>\n",
       "    <tr>\n",
       "      <th>Zoniferol</th>\n",
       "      <td>53.236507</td>\n",
       "      <td>51.818479</td>\n",
       "      <td>48.533355</td>\n",
       "      <td>6.966589</td>\n",
       "      <td>0.516398</td>\n",
       "    </tr>\n",
       "  </tbody>\n",
       "</table>\n",
       "</div>"
      ],
      "text/plain": [
       "             Tumor Volume (mm3)                                          \n",
       "                           mean     median        var       std       sem\n",
       "Drug Regimen                                                             \n",
       "Capomulin             40.675741  41.557809  24.947764  4.994774  0.329346\n",
       "Ceftamin              52.591172  51.776157  39.290177  6.268188  0.469821\n",
       "Infubinol             52.884795  51.820584  43.128684  6.567243  0.492236\n",
       "Ketapril              55.235638  53.698743  68.553577  8.279709  0.603860\n",
       "Naftisol              54.331565  52.509285  66.173479  8.134708  0.596466\n",
       "Placebo               54.033581  52.288934  61.168083  7.821003  0.581331\n",
       "Propriva              52.320930  50.446266  43.852013  6.622085  0.544332\n",
       "Ramicane              40.216745  40.673236  23.486704  4.846308  0.320955\n",
       "Stelasyn              54.233149  52.431737  59.450562  7.710419  0.573111\n",
       "Zoniferol             53.236507  51.818479  48.533355  6.966589  0.516398"
      ]
     },
     "execution_count": 14,
     "metadata": {},
     "output_type": "execute_result"
    }
   ],
   "source": [
    "# Using the aggregation method, produce the same summary statistics in a single line\n",
    "# This was reviewed in office hours after class 2/1/2021\n",
    "grouped_summary2_df = merge_df.groupby(\"Drug Regimen\").agg({\"Tumor Volume (mm3)\" : [\"mean\", \"median\", \"var\", \"std\", \"sem\"]})\n",
    "grouped_summary2_df"
   ]
  },
  {
   "cell_type": "markdown",
   "metadata": {},
   "source": [
    "## Bar and Pie Charts"
   ]
  },
  {
   "cell_type": "code",
   "execution_count": 15,
   "metadata": {
    "scrolled": true
   },
   "outputs": [],
   "source": [
    "# Group the dataframe\n",
    "total_data = merge_df.groupby([\"Drug Regimen\"])\n",
    "# total_data.count()"
   ]
  },
  {
   "cell_type": "code",
   "execution_count": 16,
   "metadata": {},
   "outputs": [],
   "source": [
    "# Get the total count of the rows in each regimen\n",
    "total_count = total_data[\"Mouse ID\"].count()\n",
    "# total_count"
   ]
  },
  {
   "cell_type": "code",
   "execution_count": 17,
   "metadata": {},
   "outputs": [
    {
     "data": {
      "image/png": "[encoded data removed]",
      "text/plain": [
       "<Figure size 648x216 with 1 Axes>"
      ]
     },
     "metadata": {
      "needs_background": "light"
     },
     "output_type": "display_data"
    }
   ],
   "source": [
    "# Generate a bar plot showing the total number of measurements taken on each drug regimen using pandas.\n",
    "total_count.plot(kind=\"bar\", color=\"blue\", figsize=(9,3), width=0.5)\n",
    "\n",
    "plt.title(\"Number of Measurements Per Regimen\")\n",
    "plt.xlabel(\"Regimens\")\n",
    "plt.ylabel(\"Number of Measurements\")\n",
    "\n",
    "plt.show()"
   ]
  },
  {
   "cell_type": "code",
   "execution_count": 18,
   "metadata": {},
   "outputs": [
    {
     "data": {
      "image/png": "[encoded data removed]",
      "text/plain": [
       "<Figure size 648x216 with 1 Axes>"
      ]
     },
     "metadata": {
      "needs_background": "light"
     },
     "output_type": "display_data"
    }
   ],
   "source": [
    "# Generate a bar plot showing the total number of measurements taken on each drug regimen using pyplot.\n",
    "# Can either create the variable for the x-axis by taking grouped_summary_df.index.tolist().\n",
    "# Or, just get the index of the grouped_summary_df (grouped_summary_df.index)\n",
    "x_axis = grouped_summary_df.index\n",
    "y_axis = total_count\n",
    "\n",
    "plt.figure(figsize=(9,3))\n",
    "\n",
    "plt.title(\"Number of Measurements Per Regimen\")\n",
    "plt.xlabel(\"Regimens\")\n",
    "plt.ylabel(\"Number of Measurments\")\n",
    "\n",
    "plt.bar(x_axis, y_axis, facecolor=\"blue\", alpha=0.75, align=\"center\", width=0.5)\n",
    "plt.xticks(x_axis, rotation=\"vertical\")\n",
    "\n",
    "plt.show()"
   ]
  },
  {
   "cell_type": "code",
   "execution_count": 19,
   "metadata": {},
   "outputs": [],
   "source": [
    "# Generate a pie plot showing the distribution of female versus male mice using pandas\n",
    "sex_data = merge_df.groupby([\"Sex\"])\n",
    "# sex_data.count()"
   ]
  },
  {
   "cell_type": "code",
   "execution_count": 20,
   "metadata": {},
   "outputs": [],
   "source": [
    "sex_count = sex_data[\"Sex\"].count()\n",
    "# sex_count"
   ]
  },
  {
   "cell_type": "code",
   "execution_count": 21,
   "metadata": {},
   "outputs": [
    {
     "data": {
      "image/png": "[encoded data removed]",
      "text/plain": [
       "<Figure size 864x360 with 1 Axes>"
      ]
     },
     "metadata": {},
     "output_type": "display_data"
    }
   ],
   "source": [
    "plt.figure(figsize=(12,5))\n",
    "\n",
    "plt.title(\"Female vs Male Distribution\")\n",
    "sex_labels= sex_count.index\n",
    "\n",
    "sex_count.plot(kind=\"pie\", startangle=135, autopct=\"%1.1f%%\", legend=False, labels=sex_labels)\n",
    "\n",
    "plt.axis(\"equal\") \n",
    "plt.show()"
   ]
  },
  {
   "cell_type": "code",
   "execution_count": 22,
   "metadata": {},
   "outputs": [
    {
     "data": {
      "image/png": "[encoded data removed]",
      "text/plain": [
       "<Figure size 864x360 with 1 Axes>"
      ]
     },
     "metadata": {},
     "output_type": "display_data"
    }
   ],
   "source": [
    "# Generate a pie plot showing the distribution of female versus male mice using pyplot\n",
    "#sex_labels= [\"Female\", \"Male\"]\n",
    "sex_labels= sex_count.index\n",
    "\n",
    "plt.figure(figsize=(12,5))\n",
    "\n",
    "plt.title(\"Female vs Male Distribution\")\n",
    "plt.pie(sex_count, labels=sex_labels, startangle=135, autopct=\"%1.1f%%\")\n",
    "\n",
    "plt.axis(\"equal\") \n",
    "plt.show()"
   ]
  },
  {
   "cell_type": "markdown",
   "metadata": {},
   "source": [
    "## Quartiles, Outliers and Boxplots"
   ]
  },
  {
   "cell_type": "code",
   "execution_count": 23,
   "metadata": {
    "scrolled": true
   },
   "outputs": [],
   "source": [
    "# Calculate the final tumor volume of each mouse across four of the treatment regimens:  \n",
    "# Capomulin, Ramicane, Infubinol, and Ceftamin\n",
    "\n",
    "# Start with the merged, clean df (original)\n",
    "# Start by getting the last (greatest) timepoint for each mouse\n",
    "# Create new dataframe from the max time value\n",
    "# https://stackoverflow.com/questions/18879782/python-pandas-groupby-forloop-idxmax\n",
    "max_timepoint=pd.DataFrame(merge_df.groupby([\"Mouse ID\"])[\"Timepoint\"].max())\n",
    "# max_timepoint.head()"
   ]
  },
  {
   "cell_type": "code",
   "execution_count": 24,
   "metadata": {},
   "outputs": [],
   "source": [
    "# Merge this group df with the original dataframe to get the tumor volume at the last timepoint\n",
    "merged_max_timepoint = pd.merge(merge_df, max_timepoint.reset_index(), on=[\"Mouse ID\", \"Timepoint\"], how=\"inner\")\n",
    "# merged_max_timepoint"
   ]
  },
  {
   "cell_type": "code",
   "execution_count": 25,
   "metadata": {},
   "outputs": [],
   "source": [
    "# Put treatments into a list for for loop (and later for plot labels)\n",
    "# https://thispointer.com/pandas-convert-a-dataframe-column-into-a-list-using-series-to_list-or-numpy-ndarray-tolist-in-python/\n",
    "# regimen_list = merged_max_timepoint[\"Drug Regimen\"].unique().tolist()\n",
    "# regimen_list"
   ]
  },
  {
   "cell_type": "code",
   "execution_count": 26,
   "metadata": {},
   "outputs": [],
   "source": [
    "# Drop unwanted items (Keep: Capomulin, Ramicane, Infubinol, and Ceftamin)\n",
    "# Step above must be run first\n",
    "regimens = [\"Capomulin\", \"Ramicane\", \"Infubinol\", \"Ceftamin\"]\n",
    "# regimens"
   ]
  },
  {
   "cell_type": "code",
   "execution_count": 27,
   "metadata": {},
   "outputs": [],
   "source": [
    "# Create empty list to fill with tumor vol data (for plotting)\n",
    "regimen_values = []"
   ]
  },
  {
   "cell_type": "code",
   "execution_count": 28,
   "metadata": {},
   "outputs": [
    {
     "name": "stdout",
     "output_type": "stream",
     "text": [
      "The interquartile range of Tumor Volume for Capomulin is: 7.781863460000004\n",
      "The values below 20.70456164999999 could be outlier for Capomulin\n",
      "The values above 51.83201549 could be outlier for Capomulin\n",
      "The interquartile range of Tumor Volume for Ramicane is: 9.098536719999998\n",
      "The values below 17.912664470000003 could be outlier for Ramicane\n",
      "The values above 54.30681135 could be outlier for Ramicane\n",
      "The interquartile range of Tumor Volume for Infubinol is: 11.477135160000003\n",
      "The values below 36.83290494999999 could be outlier for Infubinol\n",
      "The values above 82.74144559000001 could be outlier for Infubinol\n",
      "The interquartile range of Tumor Volume for Ceftamin is: 15.577752179999997\n",
      "The values below 25.355449580000002 could be outlier for Ceftamin\n",
      "The values above 87.66645829999999 could be outlier for Ceftamin\n"
     ]
    }
   ],
   "source": [
    "# Calculate the IQR and quantitatively determine if there are any potential outliers. \n",
    " \n",
    "    # Locate the rows which contain mice on each drug and get the tumor volumes\n",
    "for drug in regimens:\n",
    "    rows_df = merged_max_timepoint.loc[merged_max_timepoint[\"Drug Regimen\"] == drug]\n",
    "\n",
    "    # Add subset. Using the empty list, find the tumor volume for each regimen. \n",
    "    tumor_volume = rows_df[\"Tumor Volume (mm3)\"]\n",
    "    regimen_values.append(tumor_volume)\n",
    "    \n",
    "    # Determine outliers using upper and lower bounds using quartiles\n",
    "    # Sample at 5.3 Real-World Visualization with Matplotlib, see notes.\n",
    "    quartiles = tumor_volume.quantile([.25, .5, .75])\n",
    "    lowerq = quartiles[0.25]\n",
    "    upperq = quartiles[0.75]\n",
    "    iqr = upperq - lowerq\n",
    "    print(f\"The interquartile range of Tumor Volume for {drug} is: {iqr}\")\n",
    "    # print(f\"The lower quartile of Tumor Volume for {drug} is {lowerq}\")\n",
    "    # print(f\"The upper quartile of Tumor Volume for {drug} is: {upperq}\")\n",
    "    # print(f\"The median of Tumor Volume for {drug} is: {quartiles[0.5]}\")\n",
    "    \n",
    "    lower_bound = lowerq - (1.5 * iqr)\n",
    "    upper_bound = upperq + (1.5 * iqr)\n",
    "    print(f\"The values below {lower_bound} could be outlier for {drug}\")\n",
    "    print(f\"The values above {upper_bound} could be outlier for {drug}\")"
   ]
  },
  {
   "cell_type": "code",
   "execution_count": 29,
   "metadata": {},
   "outputs": [
    {
     "data": {
      "image/png": "[encoded data removed]",
      "text/plain": [
       "<Figure size 432x288 with 1 Axes>"
      ]
     },
     "metadata": {
      "needs_background": "light"
     },
     "output_type": "display_data"
    }
   ],
   "source": [
    "# Generate a box plot of the final tumor volume of each mouse across four regimens of interest\n",
    "# https://stackoverflow.com/questions/43573056/matplotlib-subplot-boxplot-hiding-some-axis-labels\n",
    "# https://matplotlib.org/3.1.1/gallery/statistics/boxplot.html\n",
    "xfig1, ax1 = plt.subplots()\n",
    "flierprops = dict (marker=\"o\", markerfacecolor=\"r\")\n",
    "ax1.yaxis.grid(True, linestyle=\"-\", which=\"major\", color=\"gray\", alpha=0.25)\n",
    "ax1.set_title(\"Tumor Volume for Each Regimen\")\n",
    "ax1.set_ylabel(\"Tumor Volume (mm3)\")\n",
    "ax1.set_xticklabels(regimens)\n",
    "ax1.set_ylim(0,80)\n",
    "\n",
    "ax1.set_xlabel(\"Regimens\")\n",
    "ax1.boxplot(regimen_values, flierprops=flierprops)\n",
    "plt.show()"
   ]
  },
  {
   "cell_type": "markdown",
   "metadata": {},
   "source": [
    "## Line and Scatter Plots"
   ]
  },
  {
   "cell_type": "code",
   "execution_count": 30,
   "metadata": {},
   "outputs": [
    {
     "data": {
      "image/png": "[encoded data removed]",
      "text/plain": [
       "<Figure size 432x288 with 1 Axes>"
      ]
     },
     "metadata": {
      "needs_background": "light"
     },
     "output_type": "display_data"
    }
   ],
   "source": [
    "# Generate a line plot of tumor volume vs. time point for a mouse treated with Capomulin\n",
    "# Identify a mouse in merged_max_timepoint and put it as a variable\n",
    "mouse = merge_df.loc[merge_df[\"Mouse ID\"] == \"x401\"]\n",
    "#mouse\n",
    "\n",
    "#plt.yaxis.grid(True, linestyle=\"-\", which=\"major\", color=\"gray\", alpha=0.25)\n",
    "plt.title(\"Mouse x401 Tumor Volume (Regimen: Capomulin)\")\n",
    "plt.ylabel(\"Tumor Volume (mm3)\")\n",
    "plt.xlabel(\"Timepoint\")\n",
    "plt.ylim(20,50)\n",
    "plt.grid(True, linestyle=\"-\", axis =\"y\", which=\"major\", color=\"gray\", alpha=0.25)\n",
    "\n",
    "plt.plot(mouse[\"Timepoint\"], mouse[\"Tumor Volume (mm3)\"], color=\"black\", marker=\"o\")\n",
    "plt.show()"
   ]
  },
  {
   "cell_type": "code",
   "execution_count": 31,
   "metadata": {},
   "outputs": [
    {
     "data": {
      "image/png": "[encoded data removed]",
      "text/plain": [
       "<Figure size 432x288 with 1 Axes>"
      ]
     },
     "metadata": {
      "needs_background": "light"
     },
     "output_type": "display_data"
    }
   ],
   "source": [
    "# Generate a scatter plot of average tumor volume vs. mouse weight for the Capomulin regimen\n",
    "# Identify the Capomulin and then group by mouse id to find means.\n",
    "cap = merge_df.loc[merge_df[\"Drug Regimen\"] == \"Capomulin\"]\n",
    "cap_ave = cap.groupby([\"Mouse ID\"]).mean()\n",
    "# cap_ave\n",
    "\n",
    "plt.title(\"Average Tumor Volume by Weight (Regimen: Capomulin)\")\n",
    "plt.ylabel(\"Tumor Volume (mm3)\")\n",
    "plt.xlabel(\"Mouse Weight (g)\")\n",
    "plt.ylim(32,48)\n",
    "plt.xlim(14,26)\n",
    "plt.grid(True, linestyle=\"-\", which=\"major\", color=\"gray\", alpha=0.25)\n",
    "\n",
    "plt.scatter(cap_ave[\"Weight (g)\"], cap_ave[\"Tumor Volume (mm3)\"], color=\"black\", marker=\"o\")\n",
    "plt.show()"
   ]
  },
  {
   "cell_type": "markdown",
   "metadata": {},
   "source": [
    "## Correlation and Regression"
   ]
  },
  {
   "cell_type": "code",
   "execution_count": 32,
   "metadata": {},
   "outputs": [
    {
     "name": "stdout",
     "output_type": "stream",
     "text": [
      "The correlation coefficient between the average tumor volume and mouse weight is 0.84.\n"
     ]
    }
   ],
   "source": [
    "# Calculate the correlation coefficient for mouse weight and average tumor volume for the Capomulin regimen\n",
    "r = sts.pearsonr(cap_ave[\"Weight (g)\"], cap_ave[\"Tumor Volume (mm3)\"])\n",
    "r = round(r[0],2)\n",
    "\n",
    "print(f\"The correlation coefficient between the average tumor volume and mouse weight is {r}.\")"
   ]
  },
  {
   "cell_type": "code",
   "execution_count": 33,
   "metadata": {},
   "outputs": [
    {
     "data": {
      "image/png": "[encoded data removed]",
      "text/plain": [
       "<Figure size 432x288 with 1 Axes>"
      ]
     },
     "metadata": {
      "needs_background": "light"
     },
     "output_type": "display_data"
    }
   ],
   "source": [
    "# Calculate the linear regression model for mouse weight and average tumor volume for the Capomulin regimen\n",
    "x_values = cap_ave[\"Weight (g)\"]\n",
    "y_values = cap_ave[\"Tumor Volume (mm3)\"]\n",
    "\n",
    "(slope, intercept, rvalue, pvalue, stderr) = linregress(x_values, y_values)\n",
    "regress_values = slope * x_values + intercept\n",
    "line_eq = \"y = \" + str(round(slope,2)) + \"x \" + str(round(intercept,2))\n",
    "\n",
    "plt.title(\"Average Tumor Volume by Weight (Regimen: Capomulin)\")\n",
    "plt.ylabel(\"Tumor Volume (mm3)\")\n",
    "plt.xlabel(\"Mouse Weight (g)\")\n",
    "plt.ylim(32,48)\n",
    "plt.xlim(14,26)\n",
    "plt.grid(True, linestyle=\"-\", which=\"major\", color=\"gray\", alpha=0.25)\n",
    "plt.annotate(line_eq, (20,34), fontsize=12, color=\"red\")\n",
    "\n",
    "plt.scatter(x_values, y_values, color=\"black\", marker=\"o\")\n",
    "plt.plot(x_values, regress_values, \"r-\")\n",
    "plt.show()"
   ]
  }
 ],
 "metadata": {
  "anaconda-cloud": {},
  "kernelspec": {
   "display_name": "Python 3",
   "language": "python",
   "name": "python3"
  },
  "language_info": {
   "codemirror_mode": {
    "name": "ipython",
    "version": 3
   },
   "file_extension": ".py",
   "mimetype": "text/x-python",
   "name": "python",
   "nbconvert_exporter": "python",
   "pygments_lexer": "ipython3",
   "version": "3.8.3"
  }
 },
 "nbformat": 4,
 "nbformat_minor": 4
}
